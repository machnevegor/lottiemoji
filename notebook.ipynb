{
 "cells": [
  {
   "cell_type": "code",
   "execution_count": 1,
   "id": "341e9900a97ff4ab",
   "metadata": {},
   "outputs": [],
   "source": [
    "import warnings\n",
    "\n",
    "warnings.filterwarnings(\"ignore\")"
   ]
  },
  {
   "cell_type": "code",
   "execution_count": 2,
   "id": "f21b3f0ce1183e0e",
   "metadata": {},
   "outputs": [],
   "source": [
    "import base64\n",
    "import io\n",
    "import json\n",
    "\n",
    "import cv2 as cv\n",
    "import numpy as np\n",
    "from PIL import Image\n",
    "from tqdm import tqdm\n"
   ]
  },
  {
   "cell_type": "code",
   "execution_count": null,
   "id": "54c84f230159c9b9",
   "metadata": {},
   "outputs": [],
   "source": [
    "INPUT_VIDEO = \"data/sup.mov\"\n",
    "OUTPUT_JSON = \"out/sup.json\""
   ]
  },
  {
   "cell_type": "code",
   "execution_count": null,
   "id": "b587ffa18e2b74db",
   "metadata": {},
   "outputs": [],
   "source": [
    "def read_video(filename: str) -> cv.VideoCapture:\n",
    "    return cv.VideoCapture(filename)\n",
    "\n",
    "\n",
    "def get_video_properties(cap: cv.VideoCapture) -> tuple[int, int, int, int]:\n",
    "    frame_width, frame_height, fps, frame_count = map(\n",
    "        int,\n",
    "        map(\n",
    "            cap.get,\n",
    "            [\n",
    "                cv.CAP_PROP_FRAME_WIDTH,\n",
    "                cv.CAP_PROP_FRAME_HEIGHT,\n",
    "                cv.CAP_PROP_FPS,\n",
    "                cv.CAP_PROP_FRAME_COUNT,\n",
    "            ],\n",
    "        ),\n",
    "    )\n",
    "\n",
    "    return frame_width, frame_height, fps, frame_count"
   ]
  },
  {
   "cell_type": "code",
   "execution_count": null,
   "id": "50ef8727c6a11324",
   "metadata": {},
   "outputs": [],
   "source": [
    "def process_frame(frame: cv.UMat, kernel: np.ndarray) -> tuple[np.ndarray, np.ndarray]:\n",
    "    frame_rgb = cv.cvtColor(frame, cv.COLOR_BGR2RGB)\n",
    "    frame_rgba = cv.cvtColor(frame_rgb, cv.COLOR_RGB2RGBA)\n",
    "\n",
    "    lower_black = np.array([0, 0, 0], dtype=np.uint8)\n",
    "    upper_black = np.array([10, 10, 10], dtype=np.uint8)\n",
    "\n",
    "    mask = cv.inRange(frame_rgb, lower_black, upper_black)\n",
    "    mask = cv.GaussianBlur(mask, (5, 5), 0)\n",
    "    mask = cv.morphologyEx(mask, cv.MORPH_CLOSE, kernel)\n",
    "    mask = cv.morphologyEx(mask, cv.MORPH_OPEN, kernel)\n",
    "\n",
    "    frame_rgba[mask == 255] = (255, 255, 255, 0)\n",
    "\n",
    "    return frame_rgba, mask"
   ]
  },
  {
   "cell_type": "code",
   "execution_count": null,
   "id": "1f2157d85578051e",
   "metadata": {},
   "outputs": [],
   "source": [
    "def encode_frame(frame_rgba: np.ndarray) -> str:\n",
    "    byte_io = io.BytesIO()\n",
    "    pil_image = Image.fromarray(frame_rgba)\n",
    "    pil_image.save(byte_io, format=\"WEBP\", lossless=False)\n",
    "    byte_io.seek(0)\n",
    "\n",
    "    return base64.b64encode(byte_io.read()).decode(\"utf-8\")"
   ]
  },
  {
   "cell_type": "code",
   "execution_count": null,
   "id": "40b8235dd57caa4c",
   "metadata": {},
   "outputs": [],
   "source": [
    "def save_lottie(\n",
    "        filename: str,\n",
    "        w: int,\n",
    "        h: int,\n",
    "        fr: int,\n",
    "        op: int,\n",
    "        assets: list[dict],\n",
    "        layers: list[dict],\n",
    ") -> None:\n",
    "    with open(filename, \"w\") as file:\n",
    "        json.dump(\n",
    "            {\n",
    "                \"v\": \"5.5.2\",\n",
    "                \"fr\": fr,\n",
    "                \"ip\": 0,\n",
    "                \"op\": op,\n",
    "                \"h\": h,\n",
    "                \"w\": w,\n",
    "                \"ddd\": 0,\n",
    "                \"assets\": assets,\n",
    "                \"layers\": layers,\n",
    "            },\n",
    "            file,\n",
    "        )"
   ]
  },
  {
   "cell_type": "code",
   "execution_count": null,
   "id": "5aa171c6c4dbdb94",
   "metadata": {},
   "outputs": [],
   "source": [
    "def main() -> None:\n",
    "    cap = read_video(INPUT_VIDEO)\n",
    "    w, h, fr, op = get_video_properties(cap)\n",
    "\n",
    "    assets = []\n",
    "    layers = []\n",
    "    cursor = 0\n",
    "    kernel = np.ones((5, 5), np.uint8)\n",
    "\n",
    "    with tqdm(total=op, desc=\"Processing frames\", unit=\"frame\") as pbar:\n",
    "        while cap.isOpened():\n",
    "            ret, frame = cap.read()\n",
    "\n",
    "            if not ret:\n",
    "                break\n",
    "\n",
    "            frame_rgba, _ = process_frame(frame, kernel)\n",
    "            payload = encode_frame(frame_rgba)\n",
    "\n",
    "            assets.append(\n",
    "                {\n",
    "                    \"id\": str(cursor + 1),\n",
    "                    \"w\": w,\n",
    "                    \"h\": h,\n",
    "                    \"p\": f\"data:image/webp;base64,{payload}\",\n",
    "                    \"u\": \"\",\n",
    "                    \"e\": 1,\n",
    "                }\n",
    "            )\n",
    "            layers.append(\n",
    "                {\n",
    "                    \"ind\": cursor,\n",
    "                    \"ty\": 2,\n",
    "                    \"refId\": str(cursor + 1),\n",
    "                    \"sr\": 1,\n",
    "                    \"ks\": {\n",
    "                        \"o\": {\"a\": 0, \"k\": 100},\n",
    "                        \"r\": {\"a\": 0, \"k\": 0},\n",
    "                        \"p\": {\"a\": 0, \"k\": [0, 0, 0]},\n",
    "                        \"a\": {\"a\": 0, \"k\": [0, 0, 0]},\n",
    "                        \"s\": {\"a\": 0, \"k\": [100, 100, 100]},\n",
    "                    },\n",
    "                    \"ao\": 0,\n",
    "                    \"ip\": cursor,\n",
    "                    \"op\": cursor + 1,\n",
    "                    \"st\": cursor,\n",
    "                    \"bm\": 0,\n",
    "                }\n",
    "            )\n",
    "\n",
    "            cursor += 1\n",
    "            pbar.update(1)\n",
    "\n",
    "    cap.release()\n",
    "    save_lottie(OUTPUT_JSON, w, h, fr, op, assets, layers)"
   ]
  },
  {
   "cell_type": "code",
   "execution_count": null,
   "id": "e6a2d7d89847c6b6",
   "metadata": {},
   "outputs": [],
   "source": [
    "if __name__ == \"__main__\":\n",
    "    main()"
   ]
  }
 ],
 "metadata": {
  "kernelspec": {
   "display_name": "Python 3 (ipykernel)",
   "language": "python",
   "name": "python3"
  },
  "language_info": {
   "codemirror_mode": {
    "name": "ipython",
    "version": 3
   },
   "file_extension": ".py",
   "mimetype": "text/x-python",
   "name": "python",
   "nbconvert_exporter": "python",
   "pygments_lexer": "ipython3",
   "version": "3.12.5"
  }
 },
 "nbformat": 4,
 "nbformat_minor": 5
}
